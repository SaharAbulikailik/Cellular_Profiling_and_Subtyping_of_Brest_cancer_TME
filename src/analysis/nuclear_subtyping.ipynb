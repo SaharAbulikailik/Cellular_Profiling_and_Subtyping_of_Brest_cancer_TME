{
 "cells": [
  {
   "cell_type": "code",
   "execution_count": 1,
   "id": "0f0ac133-7cf7-425b-a1ca-ff81c7f9bd20",
   "metadata": {},
   "outputs": [
    {
     "name": "stdout",
     "output_type": "stream",
     "text": [
      "Number of rows before removing duplicates:\n",
      "df1: 455568\n",
      "\n",
      "Number of rows after removing duplicates:\n",
      "df1: 455568\n"
     ]
    }
   ],
   "source": [
    "import pandas as pd\n",
    "import numpy as np\n",
    "\n",
    "# Load the data\n",
    "df = pd.read_excel('/nfs/cc-filer/home/sabulikailik/new_images/A1818/Processed_Images_Data18_filtered.xlsx')\n",
    "\n",
    "\n",
    "# Print the number of rows before removing duplicates\n",
    "print(\"Number of rows before removing duplicates:\")\n",
    "print(f\"df1: {df.shape[0]}\")\n",
    "# Remove duplicates from each DataFrame\n",
    "df = df.drop_duplicates()\n",
    "# Print the number of rows after removing duplicates\n",
    "print(\"\\nNumber of rows after removing duplicates:\")\n",
    "print(f\"df1: {df.shape[0]}\")\n",
    "\n",
    "\n",
    "\n",
    "# Define cluster centers for each feature\n",
    "cluster_centers = {\n",
    "    'area': {1: np.array([411]), 2: np.array([805])},\n",
    "    'pleomorphism': {1: np.array([0.9]), 2: np.array([0.95])},\n",
    "    'elongation': {1: np.array([0.54]), 2: np.array([0.76])},\n",
    "    'mean_intensity_DAPI': {1: np.array([819]), 2: np.array([1411])},\n",
    "    'total_intensity_DAPI': {1: np.array([429732]), 2: np.array([1048899])},\n",
    "    'avg_edge_length': {1: np.array([40.69]), 2: np.array([121.11])},\n",
    "    'median_K14': {1: np.array([123]), 2: np.array([664.5])},\n",
    "    'median_K18': {1: np.array([293]), 2: np.array([475])}\n",
    "}\n"
   ]
  },
  {
   "cell_type": "code",
   "execution_count": 2,
   "id": "1500bea8-72d8-47ad-ac17-a2acfde76513",
   "metadata": {},
   "outputs": [],
   "source": [
    "import pandas as pd\n",
    "from sklearn.preprocessing import MinMaxScaler\n",
    "import json\n",
    "\n",
    "def parse_cellularity(cellularity_str):\n",
    "    try:\n",
    "        # Convert the string to a dictionary\n",
    "        cellularity_dict = json.loads(cellularity_str.replace(\"'\", '\"'))\n",
    "\n",
    "        # Calculate the number of neighbors\n",
    "        num_neighbors = len(cellularity_dict['neighbor_names'])\n",
    "\n",
    "        # Calculate the average edge length\n",
    "        if len(cellularity_dict['edge_lengths']) > 0:\n",
    "            avg_edge_length = sum(cellularity_dict['edge_lengths']) / len(cellularity_dict['edge_lengths'])\n",
    "        else:\n",
    "            avg_edge_length = 0  # Avoid division by zero if there are no edges\n",
    "\n",
    "        return num_neighbors, avg_edge_length\n",
    "    except json.JSONDecodeError:\n",
    "        return None, None\n",
    "    \n",
    "df[['number_of_neighbors', 'avg_edge_length']] = df['cellularity'].apply(lambda x: parse_cellularity(x)).tolist()\n"
   ]
  },
  {
   "cell_type": "code",
   "execution_count": 3,
   "id": "4235d356-8915-4d91-ac9c-29f782d84b63",
   "metadata": {},
   "outputs": [],
   "source": [
    "import pandas as pd\n",
    "import numpy as np\n",
    "\n",
    "# Function to calculate Euclidean distance\n",
    "def euclidean_distance(x, y):\n",
    "    return np.linalg.norm(x - y)\n",
    "\n",
    "# Function to assign clusters based on Euclidean distance\n",
    "def assign_clusters(value, cluster_means):\n",
    "    distances = {cluster: euclidean_distance(value, mean) for cluster, mean in cluster_means.items()}\n",
    "    return [1 if distances[i] == min(distances.values()) else 0 for i in sorted(distances)]\n",
    "\n",
    "# Iterate over the cluster centers and update DataFrame with cluster assignments\n",
    "for feature, centers in cluster_centers.items():\n",
    "    df[[feature + '_1', feature + '_2']] = df[feature].apply(\n",
    "        lambda x: pd.Series(assign_clusters(np.array([x]), centers))\n",
    "    )\n",
    "\n"
   ]
  },
  {
   "cell_type": "code",
   "execution_count": 4,
   "id": "e1789296-1248-4726-9a27-9fbbb0aee7d4",
   "metadata": {},
   "outputs": [],
   "source": [
    "df.to_excel('Processed_Images_Data18K_filtered_clustered.xlsx', index=False)"
   ]
  },
  {
   "cell_type": "code",
   "execution_count": null,
   "id": "986497ce-8387-4f35-bf3f-daa4852c6812",
   "metadata": {},
   "outputs": [],
   "source": []
  }
 ],
 "metadata": {
  "kernelspec": {
   "display_name": "Python 3 (ipykernel)",
   "language": "python",
   "name": "python3"
  },
  "language_info": {
   "codemirror_mode": {
    "name": "ipython",
    "version": 3
   },
   "file_extension": ".py",
   "mimetype": "text/x-python",
   "name": "python",
   "nbconvert_exporter": "python",
   "pygments_lexer": "ipython3",
   "version": "3.8.12"
  }
 },
 "nbformat": 4,
 "nbformat_minor": 5
}
