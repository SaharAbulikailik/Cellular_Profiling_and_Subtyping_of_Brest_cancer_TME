{
 "cells": [
  {
   "cell_type": "code",
   "execution_count": null,
   "id": "d5cc83c6-7422-4b15-b730-2c74f1ff0b8f",
   "metadata": {},
   "outputs": [],
   "source": [
    "import pandas as pd\n",
    "\n",
    "df=pd.read_excel('Processed_Images_DataK18.xlsx')\n",
    "fdf=df[(df['area'] >= 100) & (df['area'] <= 3000)].copy()\n",
    "fdf.to_excel('Processed_Images_Data18_filtered.xlsx', index=False)"
   ]
  },
  {
   "cell_type": "code",
   "execution_count": null,
   "id": "ffc39209-fcaf-4df9-9a0e-76fc06f43e0a",
   "metadata": {},
   "outputs": [],
   "source": [
    "import pandas as pd\n",
    "\n",
    "# Load your Excel sheet into a DataFrame\n",
    "df = pd.read_excel('Processed_Images_Data21K_filtered_clustered.xlsx')\n",
    "\n",
    "# Filter the DataFrame to contain only rows where 'classification' is 0\n",
    "filtered_df = df[df['lympho_classification'] == 0]\n",
    "\n",
    "# Display the filtered DataFrame\n",
    "filtered_df.to_excel('final21K_forCC.xlsx', index=False)\n"
   ]
  },
  {
   "cell_type": "code",
   "execution_count": null,
   "id": "1ab88885-d728-472d-94d8-85e6906e39f3",
   "metadata": {},
   "outputs": [],
   "source": [
    "import pandas as pd\n",
    "import ast  # For safely evaluating strings containing lists\n",
    "\n",
    "# Load the DataFrame\n",
    "file_path = 'Processed_Images_Data18_filtered_classification_results.xlsx'  # Update this path to your actual file\n",
    "df = pd.read_excel(file_path)\n",
    "\n",
    "# Define a function to count lymphocyte neighbors and calculate their frequencies\n",
    "def calculate_neighbor_frequencies(row, df):\n",
    "    # Extract neighbor IDs from the cellularity string\n",
    "    cellularity_dict = ast.literal_eval(row['cellularity'])\n",
    "    neighbor_ids = cellularity_dict['neighbor_names']\n",
    "    \n",
    "    # Filter the DataFrame to include only rows with the same image_id and matching neighbor_ids\n",
    "    neighbor_rows = df[(df['image_id'] == row['image_id']) & (df['nuclei_id'].isin(neighbor_ids))]\n",
    "    lymphocyte_neighbors = neighbor_rows[neighbor_rows['lympho_classification'] == 1]\n",
    "\n",
    "    # Calculate frequencies\n",
    "    total_neighbors = len(neighbor_ids)\n",
    "    lymphocyte_count = len(lymphocyte_neighbors)\n",
    "    lymph_neighbor_frequency = lymphocyte_count / total_neighbors if total_neighbors > 0 else 0\n",
    "    other_neighbor_frequency = (total_neighbors - lymphocyte_count) / total_neighbors if total_neighbors > 0 else 0\n",
    "\n",
    "    return lymph_neighbor_frequency, other_neighbor_frequency\n",
    "\n",
    "# Apply the function to each row to create the new columns\n",
    "df['lymph_neighbor_frequency'], df['other_neighbor_frequency'] = zip(*df.apply(lambda row: calculate_neighbor_frequencies(row, df), axis=1))\n",
    "df_final = df[['image_id', 'nuclei_id', 'lympho_classification', 'lymph_neighbor_frequency', 'other_neighbor_frequency']]\n",
    "\n",
    "# Save the updated DataFrame to a new Excel file\n",
    "output_file_path = 'final_merged18_classification_with_neighbors.xlsx'\n",
    "df_final.to_excel(output_file_path, index=False)\n",
    "\n",
    "# Display the updated DataFrame\n",
    "print(df.head())\n"
   ]
  },
  {
   "cell_type": "code",
   "execution_count": null,
   "id": "78db8ecd-5a3e-4d5d-8dd2-7f92bd03f375",
   "metadata": {},
   "outputs": [],
   "source": []
  }
 ],
 "metadata": {
  "kernelspec": {
   "display_name": "Python 3 (ipykernel)",
   "language": "python",
   "name": "python3"
  },
  "language_info": {
   "codemirror_mode": {
    "name": "ipython",
    "version": 3
   },
   "file_extension": ".py",
   "mimetype": "text/x-python",
   "name": "python",
   "nbconvert_exporter": "python",
   "pygments_lexer": "ipython3",
   "version": "3.8.12"
  }
 },
 "nbformat": 4,
 "nbformat_minor": 5
}
